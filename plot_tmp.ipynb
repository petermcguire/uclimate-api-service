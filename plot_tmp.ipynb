{
 "cells": [
  {
   "cell_type": "code",
   "execution_count": 4,
   "id": "dd7a1e51",
   "metadata": {},
   "outputs": [],
   "source": [
    "import awswrangler as wr\n",
    "import pandas as pd\n",
    "import matplotlib.pyplot as plt"
   ]
  },
  {
   "cell_type": "code",
   "execution_count": 18,
   "id": "da1af4e4",
   "metadata": {},
   "outputs": [],
   "source": [
    "df = wr.athena.read_sql_query(\"SELECT timestamp, sensor.tmp, sensor.rh FROM uclimate_athena_table\", database=\"uclimate\")"
   ]
  },
  {
   "cell_type": "code",
   "execution_count": 19,
   "id": "17e07cdc",
   "metadata": {},
   "outputs": [
    {
     "data": {
      "text/html": [
       "<div>\n",
       "<style scoped>\n",
       "    .dataframe tbody tr th:only-of-type {\n",
       "        vertical-align: middle;\n",
       "    }\n",
       "\n",
       "    .dataframe tbody tr th {\n",
       "        vertical-align: top;\n",
       "    }\n",
       "\n",
       "    .dataframe thead th {\n",
       "        text-align: right;\n",
       "    }\n",
       "</style>\n",
       "<table border=\"1\" class=\"dataframe\">\n",
       "  <thead>\n",
       "    <tr style=\"text-align: right;\">\n",
       "      <th></th>\n",
       "      <th>timestamp</th>\n",
       "      <th>tmp</th>\n",
       "      <th>rh</th>\n",
       "    </tr>\n",
       "  </thead>\n",
       "  <tbody>\n",
       "    <tr>\n",
       "      <th>321</th>\n",
       "      <td>1641530903609</td>\n",
       "      <td>2.657051</td>\n",
       "      <td>94.681305</td>\n",
       "    </tr>\n",
       "    <tr>\n",
       "      <th>375</th>\n",
       "      <td>1641534481548</td>\n",
       "      <td>2.817927</td>\n",
       "      <td>94.887299</td>\n",
       "    </tr>\n",
       "    <tr>\n",
       "      <th>24</th>\n",
       "      <td>1641538063469</td>\n",
       "      <td>2.925178</td>\n",
       "      <td>94.933075</td>\n",
       "    </tr>\n",
       "    <tr>\n",
       "      <th>361</th>\n",
       "      <td>1641541648895</td>\n",
       "      <td>2.925178</td>\n",
       "      <td>95.016998</td>\n",
       "    </tr>\n",
       "    <tr>\n",
       "      <th>53</th>\n",
       "      <td>1641545230902</td>\n",
       "      <td>2.968079</td>\n",
       "      <td>95.154327</td>\n",
       "    </tr>\n",
       "    <tr>\n",
       "      <th>...</th>\n",
       "      <td>...</td>\n",
       "      <td>...</td>\n",
       "      <td>...</td>\n",
       "    </tr>\n",
       "    <tr>\n",
       "      <th>162</th>\n",
       "      <td>1642895810623</td>\n",
       "      <td>9.885767</td>\n",
       "      <td>77.995819</td>\n",
       "    </tr>\n",
       "    <tr>\n",
       "      <th>376</th>\n",
       "      <td>1642899381644</td>\n",
       "      <td>7.569146</td>\n",
       "      <td>80.376190</td>\n",
       "    </tr>\n",
       "    <tr>\n",
       "      <th>230</th>\n",
       "      <td>1642902957944</td>\n",
       "      <td>6.046182</td>\n",
       "      <td>81.406158</td>\n",
       "    </tr>\n",
       "    <tr>\n",
       "      <th>80</th>\n",
       "      <td>1642906538022</td>\n",
       "      <td>4.941497</td>\n",
       "      <td>82.367462</td>\n",
       "    </tr>\n",
       "    <tr>\n",
       "      <th>174</th>\n",
       "      <td>1642913703686</td>\n",
       "      <td>3.804636</td>\n",
       "      <td>83.267731</td>\n",
       "    </tr>\n",
       "  </tbody>\n",
       "</table>\n",
       "<p>386 rows × 3 columns</p>\n",
       "</div>"
      ],
      "text/plain": [
       "         timestamp       tmp         rh\n",
       "321  1641530903609  2.657051  94.681305\n",
       "375  1641534481548  2.817927  94.887299\n",
       "24   1641538063469  2.925178  94.933075\n",
       "361  1641541648895  2.925178  95.016998\n",
       "53   1641545230902  2.968079  95.154327\n",
       "..             ...       ...        ...\n",
       "162  1642895810623  9.885767  77.995819\n",
       "376  1642899381644  7.569146  80.376190\n",
       "230  1642902957944  6.046182  81.406158\n",
       "80   1642906538022  4.941497  82.367462\n",
       "174  1642913703686  3.804636  83.267731\n",
       "\n",
       "[386 rows x 3 columns]"
      ]
     },
     "execution_count": 19,
     "metadata": {},
     "output_type": "execute_result"
    }
   ],
   "source": [
    "df.sort_values(by=['timestamp'], inplace=True)\n",
    "df"
   ]
  },
  {
   "cell_type": "code",
   "execution_count": 21,
   "id": "721d1ffe",
   "metadata": {},
   "outputs": [
    {
     "data": {
      "text/plain": [
       "<AxesSubplot:xlabel='timestamp'>"
      ]
     },
     "execution_count": 21,
     "metadata": {},
     "output_type": "execute_result"
    },
    {
     "data": {
      "image/png": "[encoded data removed]",
      "text/plain": [
       "<Figure size 432x288 with 1 Axes>"
      ]
     },
     "metadata": {
      "needs_background": "light"
     },
     "output_type": "display_data"
    }
   ],
   "source": [
    "df.plot(x='timestamp')"
   ]
  },
  {
   "cell_type": "code",
   "execution_count": null,
   "id": "063fc0fc",
   "metadata": {},
   "outputs": [],
   "source": []
  }
 ],
 "metadata": {
  "kernelspec": {
   "display_name": "Python 3 (ipykernel)",
   "language": "python",
   "name": "python3"
  },
  "language_info": {
   "codemirror_mode": {
    "name": "ipython",
    "version": 3
   },
   "file_extension": ".py",
   "mimetype": "text/x-python",
   "name": "python",
   "nbconvert_exporter": "python",
   "pygments_lexer": "ipython3",
   "version": "3.9.7"
  }
 },
 "nbformat": 4,
 "nbformat_minor": 5
}
